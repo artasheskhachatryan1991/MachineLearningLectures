{
 "cells": [
  {
   "cell_type": "code",
   "execution_count": null,
   "metadata": {},
   "outputs": [],
   "source": [
    "import numpy as np\n",
    "import matplotlib.pyplot as plt\n",
    "import matplotlib.patches as mpatches"
   ]
  },
  {
   "cell_type": "code",
   "execution_count": null,
   "metadata": {},
   "outputs": [],
   "source": [
    "X1 = 2 + np.random.randn(100)\n",
    "X2 = 2 + np.random.randn(100)\n",
    "plt.scatter(X1, X2, color='r', label = 'Red Class')\n",
    "\n",
    "X1 = 10 + np.random.randn(100)\n",
    "X2 = 10 + np.random.randn(100)\n",
    "plt.scatter(X1, X2, color='b', label = 'Blue Class')\n",
    "\n",
    "X_b = np.array([12, 0])\n",
    "Y_b = np.array([0, 12])\n",
    "plt.plot(X_b, Y_b, linestyle = '--', color='green', label = 'Decision Baundary')\n",
    "plt.legend(bbox_to_anchor=(1.05, 1), loc=2, borderaxespad=0.)\n",
    "plt.show()"
   ]
  },
  {
   "cell_type": "code",
   "execution_count": null,
   "metadata": {},
   "outputs": [],
   "source": [
    "n_points = 100\n",
    "radius = 5\n",
    "angle = np.random.rand(n_points) * 2 * np.pi\n",
    "A1 = np.random.rand(n_points) * 0.7 * radius\n",
    "x1 = np.cos(angle) * A1\n",
    "y1 = np.sin(angle) * A1\n",
    "\n",
    "A2 = np.random.rand(n_points) * radius + 1.5 * radius\n",
    "x2 = np.cos(angle) * A2\n",
    "y2 = np.sin(angle) * A2"
   ]
  },
  {
   "cell_type": "code",
   "execution_count": null,
   "metadata": {},
   "outputs": [],
   "source": [
    "circle1 = plt.Circle((0, 0), radius=radius, color='green', fill=False, label = 'Decision Baundary', linestyle= '--')\n",
    "\n",
    "fig, ax = plt.subplots()\n",
    "fig = plt.gcf()\n",
    "ax = fig.gca()\n",
    "plt.xlim(-12, 12)\n",
    "plt.ylim(-12, 12)\n",
    "\n",
    "ax.add_patch(circle1)\n",
    "ax.legend([circle1], ['Decision Baundary'])\n",
    "\n",
    "plt.scatter(x1, y1, color='blue', label = 'Blue Class')\n",
    "plt.scatter(x2, y2, color='red', label = 'Red Class')\n",
    "plt.legend(bbox_to_anchor=(1.05, 1), loc=2, borderaxespad=0.)\n",
    "plt.show()"
   ]
  }
 ],
 "metadata": {
  "kernelspec": {
   "display_name": "Python 3",
   "language": "python",
   "name": "python3"
  },
  "language_info": {
   "codemirror_mode": {
    "name": "ipython",
    "version": 3
   },
   "file_extension": ".py",
   "mimetype": "text/x-python",
   "name": "python",
   "nbconvert_exporter": "python",
   "pygments_lexer": "ipython3",
   "version": "3.6.5"
  }
 },
 "nbformat": 4,
 "nbformat_minor": 2
}
